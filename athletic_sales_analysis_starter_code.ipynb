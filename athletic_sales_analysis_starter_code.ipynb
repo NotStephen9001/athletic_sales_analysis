{
 "cells": [
  {
   "cell_type": "code",
   "execution_count": 2,
   "metadata": {},
   "outputs": [],
   "source": [
    "# Import Libraries and Dependencies\n",
    "import pandas as pd"
   ]
  },
  {
   "cell_type": "markdown",
   "metadata": {},
   "source": [
    "### 1. Combine and Clean the Data\n",
    "#### Import CSVs"
   ]
  },
  {
   "cell_type": "code",
   "execution_count": 4,
   "metadata": {},
   "outputs": [],
   "source": [
    "# Read the CSV files into DataFrames.\n",
    "sales_2020 = pd.read_csv('Resources/athletic_sales_2020.csv')\n",
    "sales_2021 = pd.read_csv('Resources/athletic_sales_2021.csv')\n"
   ]
  },
  {
   "cell_type": "code",
   "execution_count": 5,
   "metadata": {},
   "outputs": [
    {
     "name": "stdout",
     "output_type": "stream",
     "text": [
      "2020 Sales Data:\n",
      "      retailer  retailer_id invoice_date     region         state  \\\n",
      "0  Foot Locker      1185732       1/1/20  Northeast      New York   \n",
      "1  Foot Locker      1185732       1/1/20  Northeast  Pennsylvania   \n",
      "2  Foot Locker      1185732       1/1/20  Northeast  Pennsylvania   \n",
      "3  Foot Locker      1185732       1/1/20  Northeast      New York   \n",
      "4  Foot Locker      1185732       1/1/20  Northeast  Pennsylvania   \n",
      "\n",
      "           city                product  price_per_unit  units_sold  \\\n",
      "0      New York  Men's Street Footwear              50        1200   \n",
      "1  Philadelphia        Women's Apparel              68          83   \n",
      "2  Philadelphia        Women's Apparel              75         275   \n",
      "3      New York  Men's Street Footwear              34         384   \n",
      "4  Philadelphia        Women's Apparel              53          83   \n",
      "\n",
      "   total_sales  operating_profit sales_method  \n",
      "0       600000         300000.00     In-store  \n",
      "1         5644           2426.92       Online  \n",
      "2       206250          61875.00       Outlet  \n",
      "3        13056           6789.12       Outlet  \n",
      "4         4399           1407.68       Outlet  \n"
     ]
    }
   ],
   "source": [
    "# Display the 2020 sales DataFrame\n",
    "print(\"2020 Sales Data:\")\n",
    "print(sales_2020.head())"
   ]
  },
  {
   "cell_type": "code",
   "execution_count": 6,
   "metadata": {},
   "outputs": [
    {
     "name": "stdout",
     "output_type": "stream",
     "text": [
      "\n",
      "2021 Sales Data:\n",
      "    retailer  retailer_id invoice_date   region       state           city  \\\n",
      "0  West Gear      1128299       1/1/21     West  California  San Francisco   \n",
      "1  West Gear      1128299       1/1/21     West  California  San Francisco   \n",
      "2     Kohl's      1189833       1/1/21  Midwest     Montana       Billings   \n",
      "3     Kohl's      1189833       1/1/21  Midwest     Montana       Billings   \n",
      "4  West Gear      1128299       1/1/21     West  California  San Francisco   \n",
      "\n",
      "                   product  price_per_unit  units_sold  total_sales  \\\n",
      "0  Men's Athletic Footwear              65         750       487500   \n",
      "1  Men's Athletic Footwear              51         233        11883   \n",
      "2            Men's Apparel              50         275       137500   \n",
      "3            Men's Apparel              47          77         3619   \n",
      "4  Men's Athletic Footwear              64         225        14400   \n",
      "\n",
      "   operating_profit sales_method  \n",
      "0         121875.00       Outlet  \n",
      "1           3208.41       Outlet  \n",
      "2          82500.00       Outlet  \n",
      "3           2714.25       Online  \n",
      "4           5184.00       Online  \n"
     ]
    }
   ],
   "source": [
    "# Display the 2021 sales DataFrame\n",
    "print(\"\\n2021 Sales Data:\")\n",
    "print(sales_2021.head())"
   ]
  },
  {
   "cell_type": "markdown",
   "metadata": {},
   "source": [
    "#### Check the data types of each DataFrame"
   ]
  },
  {
   "cell_type": "code",
   "execution_count": 7,
   "metadata": {},
   "outputs": [
    {
     "name": "stdout",
     "output_type": "stream",
     "text": [
      "Data Types for 2020 Sales:\n",
      "retailer             object\n",
      "retailer_id           int64\n",
      "invoice_date         object\n",
      "region               object\n",
      "state                object\n",
      "city                 object\n",
      "product              object\n",
      "price_per_unit        int64\n",
      "units_sold            int64\n",
      "total_sales           int64\n",
      "operating_profit    float64\n",
      "sales_method         object\n",
      "dtype: object\n"
     ]
    }
   ],
   "source": [
    "# Check the 2020 sales data types.\n",
    "print(\"Data Types for 2020 Sales:\")\n",
    "print(sales_2020.dtypes)\n"
   ]
  },
  {
   "cell_type": "code",
   "execution_count": 8,
   "metadata": {},
   "outputs": [
    {
     "name": "stdout",
     "output_type": "stream",
     "text": [
      "\n",
      "Data Types for 2021 Sales:\n",
      "retailer             object\n",
      "retailer_id           int64\n",
      "invoice_date         object\n",
      "region               object\n",
      "state                object\n",
      "city                 object\n",
      "product              object\n",
      "price_per_unit        int64\n",
      "units_sold            int64\n",
      "total_sales           int64\n",
      "operating_profit    float64\n",
      "sales_method         object\n",
      "dtype: object\n"
     ]
    }
   ],
   "source": [
    "# Check the 2021 sales data types.\n",
    "print(\"\\nData Types for 2021 Sales:\")\n",
    "print(sales_2021.dtypes)"
   ]
  },
  {
   "cell_type": "markdown",
   "metadata": {},
   "source": [
    "#### Combine the sales data by rows."
   ]
  },
  {
   "cell_type": "code",
   "execution_count": 9,
   "metadata": {},
   "outputs": [],
   "source": [
    "# Combine the 2020 and 2021 sales DataFrames on the rows and reset the index.\n",
    "combined_sales = pd.concat([sales_2020, sales_2021], ignore_index=True)\n"
   ]
  },
  {
   "cell_type": "code",
   "execution_count": 10,
   "metadata": {},
   "outputs": [
    {
     "name": "stdout",
     "output_type": "stream",
     "text": [
      "\n",
      "Null Values in Combined Data:\n",
      "retailer            0\n",
      "retailer_id         0\n",
      "invoice_date        0\n",
      "region              0\n",
      "state               0\n",
      "city                0\n",
      "product             0\n",
      "price_per_unit      0\n",
      "units_sold          0\n",
      "total_sales         0\n",
      "operating_profit    0\n",
      "sales_method        0\n",
      "dtype: int64\n"
     ]
    }
   ],
   "source": [
    "# Check if any values are null.\n",
    "print(\"\\nNull Values in Combined Data:\")\n",
    "print(combined_sales.isnull().sum())"
   ]
  },
  {
   "cell_type": "code",
   "execution_count": 11,
   "metadata": {},
   "outputs": [
    {
     "name": "stdout",
     "output_type": "stream",
     "text": [
      "\n",
      "Data Types in Combined Data:\n",
      "retailer             object\n",
      "retailer_id           int64\n",
      "invoice_date         object\n",
      "region               object\n",
      "state                object\n",
      "city                 object\n",
      "product              object\n",
      "price_per_unit        int64\n",
      "units_sold            int64\n",
      "total_sales           int64\n",
      "operating_profit    float64\n",
      "sales_method         object\n",
      "dtype: object\n"
     ]
    }
   ],
   "source": [
    "# Check the data type of each column\n",
    "print(\"\\nData Types in Combined Data:\")\n",
    "print(combined_sales.dtypes)"
   ]
  },
  {
   "cell_type": "code",
   "execution_count": 13,
   "metadata": {},
   "outputs": [],
   "source": [
    "# Convert the \"invoice_date\" to a datetime datatype\n",
    "combined_sales['invoice_date'] = pd.to_datetime(combined_sales['invoice_date'])\n"
   ]
  },
  {
   "cell_type": "code",
   "execution_count": 14,
   "metadata": {},
   "outputs": [
    {
     "name": "stdout",
     "output_type": "stream",
     "text": [
      "\n",
      "Data Types After Converting 'invoice_date':\n",
      "retailer                    object\n",
      "retailer_id                  int64\n",
      "invoice_date        datetime64[ns]\n",
      "region                      object\n",
      "state                       object\n",
      "city                        object\n",
      "product                     object\n",
      "price_per_unit               int64\n",
      "units_sold                   int64\n",
      "total_sales                  int64\n",
      "operating_profit           float64\n",
      "sales_method                object\n",
      "dtype: object\n"
     ]
    }
   ],
   "source": [
    "# Confirm that the \"invoice_date\" data type has been changed.\n",
    "print(\"\\nData Types After Converting 'invoice_date':\")\n",
    "print(combined_sales.dtypes)"
   ]
  },
  {
   "cell_type": "markdown",
   "metadata": {},
   "source": [
    "### 2. Determine which Region Sold the Most Products"
   ]
  },
  {
   "cell_type": "markdown",
   "metadata": {},
   "source": [
    "#### Using `groupby`"
   ]
  },
  {
   "cell_type": "code",
   "execution_count": 16,
   "metadata": {},
   "outputs": [
    {
     "name": "stdout",
     "output_type": "stream",
     "text": [
      "\n",
      "Top 5 Results for Products Sold by Region, State, and City:\n",
      "    region     state          city  Total_Products_Sold\n",
      "0  Midwest  Illinois       Chicago                25407\n",
      "1  Midwest   Indiana  Indianapolis                26332\n",
      "2  Midwest      Iowa    Des Moines                23446\n",
      "3  Midwest    Kansas       Wichita                29463\n",
      "4  Midwest  Michigan       Detroit                50095\n"
     ]
    }
   ],
   "source": [
    "# Show the number products sold for region, state, and city.\n",
    "# Rename the sum to \"Total_Products_Sold\".\n",
    "region_state_city_products_sold = combined_sales.groupby(['region', 'state', 'city'])['units_sold'].sum().reset_index()\n",
    "region_state_city_products_sold.rename(columns={'units_sold': 'Total_Products_Sold'}, inplace=True)\n",
    "\n",
    "\n",
    "\n",
    "\n",
    "# Show the top 5 results.\n",
    "print(\"\\nTop 5 Results for Products Sold by Region, State, and City:\")\n",
    "print(region_state_city_products_sold.head())                            "
   ]
  },
  {
   "cell_type": "markdown",
   "metadata": {},
   "source": [
    "#### Using `pivot_table`"
   ]
  },
  {
   "cell_type": "code",
   "execution_count": 17,
   "metadata": {},
   "outputs": [
    {
     "name": "stdout",
     "output_type": "stream",
     "text": [
      "\n",
      "Top 5 Results for Products Sold by Region, State, and City (Using Pivot Table):\n",
      "    region     state          city  Total_Products_Sold\n",
      "0  Midwest  Illinois       Chicago                25407\n",
      "1  Midwest   Indiana  Indianapolis                26332\n",
      "2  Midwest      Iowa    Des Moines                23446\n",
      "3  Midwest    Kansas       Wichita                29463\n",
      "4  Midwest  Michigan       Detroit                50095\n"
     ]
    }
   ],
   "source": [
    "# Show the number products sold for region, state, and city.\n",
    "pivot_table_region_state_city = pd.pivot_table(combined_sales, values='units_sold', index=['region', 'state', 'city'], aggfunc='sum').reset_index()\n",
    "\n",
    "# Rename the \"units_sold\" column to \"Total_Products_Sold\"\n",
    "pivot_table_region_state_city.rename(columns={'units_sold': 'Total_Products_Sold'}, inplace=True)\n",
    "\n",
    "\n",
    "# Show the top 5 results.\n",
    "print(\"\\nTop 5 Results for Products Sold by Region, State, and City (Using Pivot Table):\")\n",
    "print(pivot_table_region_state_city.head())"
   ]
  },
  {
   "cell_type": "markdown",
   "metadata": {},
   "source": [
    "### 3. Determine which Region had the Most Sales"
   ]
  },
  {
   "cell_type": "markdown",
   "metadata": {},
   "source": [
    "#### Using `groupby`"
   ]
  },
  {
   "cell_type": "code",
   "execution_count": 18,
   "metadata": {},
   "outputs": [
    {
     "name": "stdout",
     "output_type": "stream",
     "text": [
      "\n",
      "Top 5 Results for Total Sales by Region, State, and City:\n",
      "    region     state          city  Total Sales\n",
      "0  Midwest  Illinois       Chicago      9797488\n",
      "1  Midwest   Indiana  Indianapolis      8836198\n",
      "2  Midwest      Iowa    Des Moines      7424011\n",
      "3  Midwest    Kansas       Wichita      9972864\n",
      "4  Midwest  Michigan       Detroit     18625433\n"
     ]
    }
   ],
   "source": [
    "# Show the total sales for the products sold for each region, state, and city.\n",
    "# Rename the \"total_sales\" column to \"Total Sales\"\n",
    "region_state_city_total_sales = combined_sales.groupby(['region', 'state', 'city'])['total_sales'].sum().reset_index()\n",
    "region_state_city_total_sales.rename(columns={'total_sales': 'Total Sales'}, inplace=True)\n",
    "\n",
    "\n",
    "# Show the top 5 results.\n",
    "print(\"\\nTop 5 Results for Total Sales by Region, State, and City:\")\n",
    "print(region_state_city_total_sales.head())"
   ]
  },
  {
   "cell_type": "markdown",
   "metadata": {},
   "source": [
    "#### Using `pivot_table`"
   ]
  },
  {
   "cell_type": "code",
   "execution_count": 19,
   "metadata": {},
   "outputs": [
    {
     "name": "stdout",
     "output_type": "stream",
     "text": [
      "\n",
      "Top 5 Results for Total Sales by Region, State, and City (Using Pivot Table):\n",
      "    region     state          city  Total Sales\n",
      "0  Midwest  Illinois       Chicago      9797488\n",
      "1  Midwest   Indiana  Indianapolis      8836198\n",
      "2  Midwest      Iowa    Des Moines      7424011\n",
      "3  Midwest    Kansas       Wichita      9972864\n",
      "4  Midwest  Michigan       Detroit     18625433\n"
     ]
    }
   ],
   "source": [
    "# Show the total sales for the products sold for each region, state, and city.\n",
    "pivot_table_region_state_city_total_sales = pd.pivot_table(combined_sales, values='total_sales', index=['region', 'state', 'city'], aggfunc='sum').reset_index()\n",
    "\n",
    "# Optional: Rename the \"total_sales\" column to \"Total Sales\"\n",
    "pivot_table_region_state_city_total_sales.rename(columns={'total_sales': 'Total Sales'}, inplace=True)\n",
    "\n",
    "# Show the top 5 results.\n",
    "print(\"\\nTop 5 Results for Total Sales by Region, State, and City (Using Pivot Table):\")\n",
    "print(pivot_table_region_state_city_total_sales.head())"
   ]
  },
  {
   "cell_type": "markdown",
   "metadata": {
    "jp-MarkdownHeadingCollapsed": true,
    "tags": []
   },
   "source": [
    "### 4. Determine which Retailer had the Most Sales"
   ]
  },
  {
   "cell_type": "markdown",
   "metadata": {},
   "source": [
    "#### Using `groupby`"
   ]
  },
  {
   "cell_type": "code",
   "execution_count": 20,
   "metadata": {},
   "outputs": [
    {
     "name": "stdout",
     "output_type": "stream",
     "text": [
      "\n",
      "Top 5 Results for Total Sales by Retailer, Region, State, and City:\n",
      "  retailer     region          state        city  Total Sales\n",
      "0   Amazon    Midwest           Ohio    Columbus     16835873\n",
      "1   Amazon  Northeast          Maine    Portland      8611395\n",
      "2   Amazon  Northeast  Massachusetts      Boston      4193590\n",
      "3   Amazon  Northeast  New Hampshire  Manchester     10077142\n",
      "4   Amazon  Northeast        Vermont  Burlington     13380463\n"
     ]
    }
   ],
   "source": [
    "# Show the total sales for the products sold for each retailer, region, state, and city.\n",
    "# Rename the \"total_sales\" column to \"Total Sales\"\n",
    "retailer_region_state_city_total_sales = combined_sales.groupby(['retailer', 'region', 'state', 'city'])['total_sales'].sum().reset_index()\n",
    "retailer_region_state_city_total_sales.rename(columns={'total_sales': 'Total Sales'}, inplace=True)\n",
    "\n",
    "# Show the top 5 results.\n",
    "print(\"\\nTop 5 Results for Total Sales by Retailer, Region, State, and City:\")\n",
    "print(retailer_region_state_city_total_sales.head())"
   ]
  },
  {
   "cell_type": "markdown",
   "metadata": {},
   "source": [
    "#### Using `pivot_table`"
   ]
  },
  {
   "cell_type": "code",
   "execution_count": 21,
   "metadata": {},
   "outputs": [
    {
     "name": "stdout",
     "output_type": "stream",
     "text": [
      "\n",
      "Top 5 Results for Total Sales by Retailer, Region, State, and City (Using Pivot Table):\n",
      "  retailer     region          state        city  Total Sales\n",
      "0   Amazon    Midwest           Ohio    Columbus     16835873\n",
      "1   Amazon  Northeast          Maine    Portland      8611395\n",
      "2   Amazon  Northeast  Massachusetts      Boston      4193590\n",
      "3   Amazon  Northeast  New Hampshire  Manchester     10077142\n",
      "4   Amazon  Northeast        Vermont  Burlington     13380463\n"
     ]
    }
   ],
   "source": [
    "# Show the total sales for the products sold for each retailer, region, state, and city.\n",
    "pivot_table_retailer_region_state_city_total_sales = pd.pivot_table(combined_sales, values='total_sales', index=['retailer', 'region', 'state', 'city'], aggfunc='sum').reset_index()\n",
    "\n",
    "# Optional: Rename the \"total_sales\" column to \"Total Sales\"\n",
    "pivot_table_retailer_region_state_city_total_sales.rename(columns={'total_sales': 'Total Sales'}, inplace=True)\n",
    "\n",
    "\n",
    "# Show the top 5 results.\n",
    "print(\"\\nTop 5 Results for Total Sales by Retailer, Region, State, and City (Using Pivot Table):\")\n",
    "print(pivot_table_retailer_region_state_city_total_sales.head())"
   ]
  },
  {
   "cell_type": "markdown",
   "metadata": {},
   "source": [
    "### 5. Determine which Retailer Sold the Most Women's Athletic Footwear"
   ]
  },
  {
   "cell_type": "code",
   "execution_count": 24,
   "metadata": {},
   "outputs": [],
   "source": [
    "# Filter the sales data to get the women's athletic footwear sales data.\n",
    "womens_footwear_sales = combined_sales[combined_sales['product'] == \"Women's Athletic Footwear\"]\n"
   ]
  },
  {
   "cell_type": "markdown",
   "metadata": {},
   "source": [
    "#### Using `groupby`"
   ]
  },
  {
   "cell_type": "code",
   "execution_count": 25,
   "metadata": {},
   "outputs": [
    {
     "name": "stdout",
     "output_type": "stream",
     "text": [
      "\n",
      "Top 5 Results for Women's Athletic Footwear Units Sold by Retailer, Region, State, and City:\n",
      "  retailer     region          state        city  Womens_Footwear_Units_Sold\n",
      "0   Amazon    Midwest           Ohio    Columbus                        5801\n",
      "1   Amazon  Northeast          Maine    Portland                        1841\n",
      "2   Amazon  Northeast  Massachusetts      Boston                        1190\n",
      "3   Amazon  Northeast  New Hampshire  Manchester                        3109\n",
      "4   Amazon  Northeast        Vermont  Burlington                        4327\n"
     ]
    }
   ],
   "source": [
    "# Show the total number of women's athletic footwear sold for each retailer, region, state, and city.\n",
    "# Rename the \"units_sold\" column to \"Womens_Footwear_Units_Sold\"\n",
    "womens_footwear_sales_by_location = womens_footwear_sales.groupby(['retailer', 'region', 'state', 'city'])['units_sold'].sum().reset_index()\n",
    "womens_footwear_sales_by_location.rename(columns={'units_sold': 'Womens_Footwear_Units_Sold'}, inplace=True)\n",
    "\n",
    "# Show the top 5 results.\n",
    "print(\"\\nTop 5 Results for Women's Athletic Footwear Units Sold by Retailer, Region, State, and City:\")\n",
    "print(womens_footwear_sales_by_location.head())"
   ]
  },
  {
   "cell_type": "markdown",
   "metadata": {},
   "source": [
    "#### Using `pivot_table`"
   ]
  },
  {
   "cell_type": "code",
   "execution_count": 27,
   "metadata": {},
   "outputs": [
    {
     "name": "stdout",
     "output_type": "stream",
     "text": [
      "\n",
      "Top 5 Results for Women's Athletic Footwear Units Sold by Retailer, Region, State, and City (Using Pivot Table):\n",
      "  retailer     region          state        city  Womens_Footwear_Units_Sold\n",
      "0   Amazon    Midwest           Ohio    Columbus                        5801\n",
      "1   Amazon  Northeast          Maine    Portland                        1841\n",
      "2   Amazon  Northeast  Massachusetts      Boston                        1190\n",
      "3   Amazon  Northeast  New Hampshire  Manchester                        3109\n",
      "4   Amazon  Northeast        Vermont  Burlington                        4327\n"
     ]
    }
   ],
   "source": [
    "# Show the total number of women's athletic footwear sold for each retailer, region, state, and city.\n",
    "pivot_table_womens_footwear_sales = pd.pivot_table(womens_footwear_sales, values='units_sold', index=['retailer', 'region', 'state', 'city'], aggfunc='sum').reset_index()\n",
    "\n",
    "\n",
    "# Rename the \"units_sold\" column to \"Womens_Footwear_Units_Sold\"\n",
    "pivot_table_womens_footwear_sales.rename(columns={'units_sold': 'Womens_Footwear_Units_Sold'}, inplace=True)\n",
    "\n",
    "# Show the top 5 results.\n",
    "print(\"\\nTop 5 Results for Women's Athletic Footwear Units Sold by Retailer, Region, State, and City (Using Pivot Table):\")\n",
    "print(pivot_table_womens_footwear_sales.head())"
   ]
  },
  {
   "cell_type": "markdown",
   "metadata": {},
   "source": [
    "### 5. Determine the Day with the Most Women's Athletic Footwear Sales"
   ]
  },
  {
   "cell_type": "code",
   "execution_count": 28,
   "metadata": {},
   "outputs": [
    {
     "name": "stdout",
     "output_type": "stream",
     "text": [
      "\n",
      "Daily Total Sales for Women's Athletic Footwear:\n",
      "    invoice_date  Total Sales\n",
      "0     2020-01-04       402743\n",
      "1     2020-01-05       141801\n",
      "2     2020-01-11       129556\n",
      "3     2020-01-17       173013\n",
      "4     2020-01-22       388250\n",
      "..           ...          ...\n",
      "350   2021-12-22       200406\n",
      "351   2021-12-23       808022\n",
      "352   2021-12-24       190885\n",
      "353   2021-12-25       315175\n",
      "354   2021-12-30       167903\n",
      "\n",
      "[355 rows x 2 columns]\n"
     ]
    }
   ],
   "source": [
    "# Create a pivot table with the 'invoice_date' column is the index, and the \"total_sales\" as the values.\n",
    "pivot_table_daily_sales = pd.pivot_table(womens_footwear_sales, values='total_sales', index='invoice_date', aggfunc='sum').reset_index()\n",
    "\n",
    "# Optional: Rename the \"total_sales\" column to \"Total Sales\"\n",
    "pivot_table_daily_sales.rename(columns={'total_sales': 'Total Sales'}, inplace=True)\n",
    "\n",
    "# Show the table.\n",
    "print(\"\\nDaily Total Sales for Women's Athletic Footwear:\")\n",
    "print(pivot_table_daily_sales)"
   ]
  },
  {
   "cell_type": "code",
   "execution_count": 34,
   "metadata": {},
   "outputs": [
    {
     "name": "stdout",
     "output_type": "stream",
     "text": [
      "\n",
      "Day with the Most Women's Athletic Footwear Sales:\n",
      "Total Sales    1521825\n",
      "Name: 2021-07-16 00:00:00, dtype: int64\n"
     ]
    }
   ],
   "source": [
    "# Resample the pivot table into daily bins, and get the total sales for each day.\n",
    "daily_sales_resampled = pivot_table_daily_sales.resample('D', on='invoice_date').sum()\n",
    "\n",
    "\n",
    "# Sort the resampled pivot table in ascending order on \"Total Sales\".\n",
    "daily_sales_resampled_sorted = daily_sales_resampled.sort_values(by='Total Sales', ascending=False)\n",
    "\n",
    "most_sales_day = daily_sales_resampled_sorted.iloc[0]\n",
    "print(\"\\nDay with the Most Women's Athletic Footwear Sales:\")\n",
    "print(most_sales_day)\n",
    "\n"
   ]
  },
  {
   "cell_type": "markdown",
   "metadata": {},
   "source": [
    "### 6.  Determine the Week with the Most Women's Athletic Footwear Sales"
   ]
  },
  {
   "cell_type": "code",
   "execution_count": 35,
   "metadata": {},
   "outputs": [
    {
     "name": "stdout",
     "output_type": "stream",
     "text": [
      "\n",
      "Week with the Most Women's Athletic Footwear Sales:\n",
      "Total Sales    2904141\n",
      "Name: 2021-12-13 00:00:00, dtype: int64\n"
     ]
    }
   ],
   "source": [
    "# Resample the pivot table into weekly bins, and get the total sales for each week.\n",
    "weekly_sales_resampled = pivot_table_daily_sales.resample('W-MON', on='invoice_date').sum()\n",
    "\n",
    "\n",
    "# Sort the resampled pivot table in ascending order on \"Total Sales\".\n",
    "weekly_sales_resampled_sorted = weekly_sales_resampled.sort_values(by='Total Sales', ascending=False)\n",
    "\n",
    "most_sales_week = weekly_sales_resampled_sorted.iloc[0]\n",
    "print(\"\\nWeek with the Most Women's Athletic Footwear Sales:\")\n",
    "print(most_sales_week)"
   ]
  },
  {
   "cell_type": "code",
   "execution_count": null,
   "metadata": {},
   "outputs": [],
   "source": []
  }
 ],
 "metadata": {
  "kernelspec": {
   "display_name": "Python 3 (ipykernel)",
   "language": "python",
   "name": "python3"
  },
  "language_info": {
   "codemirror_mode": {
    "name": "ipython",
    "version": 3
   },
   "file_extension": ".py",
   "mimetype": "text/x-python",
   "name": "python",
   "nbconvert_exporter": "python",
   "pygments_lexer": "ipython3",
   "version": "3.11.5"
  }
 },
 "nbformat": 4,
 "nbformat_minor": 4
}
